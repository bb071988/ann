{
 "cells": [
  {
   "cell_type": "code",
   "execution_count": 1,
   "metadata": {
    "collapsed": true
   },
   "outputs": [],
   "source": [
    "%matplotlib inline"
   ]
  },
  {
   "cell_type": "code",
   "execution_count": 2,
   "metadata": {
    "collapsed": true
   },
   "outputs": [],
   "source": [
    "# XOR truth table\n",
    "# Input\tOutput\n",
    "# A\tB\n",
    "# 0\t0\t0\n",
    "# 0\t1\t1\n",
    "# 1\t0\t1\n",
    "# 1\t1\t0"
   ]
  },
  {
   "cell_type": "code",
   "execution_count": 5,
   "metadata": {
    "collapsed": true
   },
   "outputs": [],
   "source": [
    "import pandas as pd\n",
    "import numpy as np\n",
    "from sklearn.ensemble import RandomForestClassifier\n",
    "import os\n",
    "from sklearn.model_selection import KFold, cross_val_score\n",
    "\n",
    "from random import choice \n",
    "from numpy import array, dot, random"
   ]
  },
  {
   "cell_type": "code",
   "execution_count": 6,
   "metadata": {
    "collapsed": true
   },
   "outputs": [],
   "source": [
    "class Ptron(object):\n",
    "    def __init__(self, inputs, eta, iters):\n",
    "        self.w = random.rand(len(inputs)) # initial weights\n",
    "        self.r = dot(self.w,self.i)\n",
    "        \n",
    "    def result(self,w,x):\n",
    "        return(dot(w,x))\n",
    "    \n",
    "    def get_error(self, act_funct)\n",
    "    \n",
    "    def unit_step(self, ):\n",
    "        unit_step = lambda x: 0 if x < 0 else 1\n"
   ]
  },
  {
   "cell_type": "code",
   "execution_count": 13,
   "metadata": {
    "collapsed": true
   },
   "outputs": [],
   "source": [
    "errors = []\n",
    "eta = 0.2 \n",
    "n = 100\n",
    "unit_step = lambda x: 0 if x < 0 else 1\n",
    "w = random.rand(3)"
   ]
  },
  {
   "cell_type": "code",
   "execution_count": 14,
   "metadata": {
    "collapsed": true
   },
   "outputs": [],
   "source": [
    "training_data = [ (array([0,0,1]), 0), (array([0,1,1]), 1), (array([1,0,1]), 1), (array([1,1,1]), 1), ]"
   ]
  },
  {
   "cell_type": "code",
   "execution_count": 15,
   "metadata": {},
   "outputs": [],
   "source": [
    "for i in range(n): \n",
    "    x, expected = choice(training_data) \n",
    "    result = dot(w, x) \n",
    "    error = expected - unit_step(result) \n",
    "    errors.append(error) \n",
    "    w += eta * error * x\n",
    "    "
   ]
  },
  {
   "cell_type": "code",
   "execution_count": 16,
   "metadata": {},
   "outputs": [
    {
     "name": "stdout",
     "output_type": "stream",
     "text": [
      "[0 0]: -0.10688007406670952 -> 0\n",
      "[0 1]: 0.6898443652580385 -> 1\n",
      "[1 0]: 0.7239858442001273 -> 1\n",
      "[1 1]: 1.5207102835248754 -> 1\n"
     ]
    }
   ],
   "source": [
    "for x, _ in training_data: \n",
    "    result = dot(x, w) \n",
    "    print(\"{}: {} -> {}\".format(x[:2], result, unit_step(result)))"
   ]
  },
  {
   "cell_type": "code",
   "execution_count": null,
   "metadata": {
    "collapsed": true
   },
   "outputs": [],
   "source": []
  }
 ],
 "metadata": {
  "kernelspec": {
   "display_name": "Python 3",
   "language": "python",
   "name": "python3"
  },
  "language_info": {
   "codemirror_mode": {
    "name": "ipython",
    "version": 3
   },
   "file_extension": ".py",
   "mimetype": "text/x-python",
   "name": "python",
   "nbconvert_exporter": "python",
   "pygments_lexer": "ipython3",
   "version": "3.6.1"
  }
 },
 "nbformat": 4,
 "nbformat_minor": 2
}
