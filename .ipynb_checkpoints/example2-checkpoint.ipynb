{
 "cells": [
  {
   "cell_type": "code",
   "execution_count": 19,
   "metadata": {},
   "outputs": [
    {
     "name": "stdout",
     "output_type": "stream",
     "text": [
      "shape of X is (4, 2)\n",
      " X data is \n",
      "[[0 0]\n",
      " [0 1]\n",
      " [1 0]\n",
      " [1 1]]\n",
      "Y data is \n",
      "[[0]\n",
      " [1]\n",
      " [1]\n",
      " [0]]\n",
      "Wh first time through is [[ 0.31376853  0.58224178  0.61778891]\n",
      " [ 0.60948845  0.5111188   0.76962561]]\n",
      "shape of H is (4, 3)\n",
      "shape of Z is (4, 1)\n",
      "shape of E is (4, 1)\n",
      "shape of dZ is (4, 1)\n",
      "shape of Wz is (3, 1)\n",
      "shape of dH is (4, 3)\n",
      "shape of Wh is (2, 3)\n",
      "Output layer result \n",
      " [[-0.01999946]\n",
      " [ 0.99958061]\n",
      " [ 0.9995806 ]\n",
      " [ 0.01078326]]\n"
     ]
    }
   ],
   "source": [
    "#   XOR.py-A very simple neural network to do exclusive or. \n",
    "#   sigmoid activation for hidden layer, no (or linear) activation for output \n",
    "import numpy as np \n",
    "epochs = 20000                                  \n",
    "# Number of iterations \n",
    "inputLayerSize, hiddenLayerSize, outputLayerSize = 2, 3, 1 \n",
    "L = .1                                          \n",
    "# learning rate       \n",
    "X = np.array([[0,0], [0,1], [1,0], [1,1]]) \n",
    "print(\"shape of X is {}\".format(np.shape(X)))\n",
    "\n",
    "print(\" X data is \\n{}\".format(X))\n",
    "Y = np.array([ [0],   [1],   [1],   [0]]) \n",
    "\n",
    "print(\"Y data is \\n{}\".format(Y))\n",
    "def sigmoid (x): \n",
    "    return 1/(1 + np.exp(-x))      \n",
    "# activation function \n",
    "def sigmoid_(x): \n",
    "    return x * (1 - x)  # derivative of sigmoid                                                \n",
    "\n",
    "# weights on layer inputs \n",
    "Wh = np.random.uniform(size=(inputLayerSize, hiddenLayerSize)) # 2x3 matrix\n",
    "print(\"Wh first time through is {}\".format(Wh))\n",
    "Wz = np.random.uniform(size=(hiddenLayerSize,outputLayerSize)) # 3x1 matrix\n",
    "\n",
    "for i in range(epochs):     \n",
    "    H = sigmoid(np.dot(X, Wh))                  # hidden layer results\n",
    "    Z = np.dot(H,Wz)                            # output layer, no activation    \n",
    "    E = Y - Z                                   # how much we missed (error)    \n",
    "    dZ = E * L                                  # delta Z    \n",
    "    Wz +=  H.T.dot(dZ)                          # update output layer weights    \n",
    "    dH = dZ.dot(Wz.T) * sigmoid_(H)             # delta H    \n",
    "    Wh +=  X.T.dot(dH)                          # update hidden layer weights     \n",
    " \n",
    "print(\"shape of H is {}\".format(np.shape(H)))\n",
    "print(\"shape of Z is {}\".format(np.shape(Z)))\n",
    "print(\"shape of E is {}\".format(np.shape(E)))\n",
    "print(\"shape of dZ is {}\".format(np.shape(dZ)))\n",
    "print(\"shape of Wz is {}\".format(np.shape(Wz)))\n",
    "print(\"shape of dH is {}\".format(np.shape(dH)))\n",
    "print(\"shape of Wh is {}\".format(np.shape(Wh)))\n",
    "\n",
    "print(\"Output layer result \\n {}\".format(Z))                # what have we learnt?"
   ]
  },
  {
   "cell_type": "code",
   "execution_count": 20,
   "metadata": {},
   "outputs": [
    {
     "data": {
      "text/plain": [
       "array([[ 0.5       ,  0.5       ,  0.5       ],\n",
       "       [ 0.98613564,  0.58102881,  0.98649042],\n",
       "       [ 0.57803584,  0.98602364,  0.98623531],\n",
       "       [ 0.98984103,  0.98988242,  0.9998089 ]])"
      ]
     },
     "execution_count": 20,
     "metadata": {},
     "output_type": "execute_result"
    }
   ],
   "source": [
    "H"
   ]
  },
  {
   "cell_type": "code",
   "execution_count": null,
   "metadata": {
    "collapsed": true
   },
   "outputs": [],
   "source": []
  },
  {
   "cell_type": "code",
   "execution_count": 21,
   "metadata": {},
   "outputs": [
    {
     "data": {
      "text/plain": [
       "array([[ 0.        ,  0.        ,  0.        ],\n",
       "       [ 4.2644982 ,  0.32699971,  4.29075644],\n",
       "       [ 0.31471706,  4.25633942,  4.27179004],\n",
       "       [ 4.57921526,  4.58333913,  8.56254648]])"
      ]
     },
     "execution_count": 21,
     "metadata": {},
     "output_type": "execute_result"
    }
   ],
   "source": [
    "np.dot(X,Wh)"
   ]
  },
  {
   "cell_type": "code",
   "execution_count": null,
   "metadata": {
    "collapsed": true
   },
   "outputs": [],
   "source": []
  }
 ],
 "metadata": {
  "kernelspec": {
   "display_name": "Python 3",
   "language": "python",
   "name": "python3"
  },
  "language_info": {
   "codemirror_mode": {
    "name": "ipython",
    "version": 3
   },
   "file_extension": ".py",
   "mimetype": "text/x-python",
   "name": "python",
   "nbconvert_exporter": "python",
   "pygments_lexer": "ipython3",
   "version": "3.6.1"
  }
 },
 "nbformat": 4,
 "nbformat_minor": 2
}
