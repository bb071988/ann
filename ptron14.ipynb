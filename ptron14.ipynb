{
 "cells": [
  {
   "cell_type": "code",
   "execution_count": 45,
   "metadata": {
    "collapsed": true
   },
   "outputs": [],
   "source": [
    "%matplotlib inline"
   ]
  },
  {
   "cell_type": "code",
   "execution_count": 46,
   "metadata": {
    "collapsed": true
   },
   "outputs": [],
   "source": [
    "import numpy as np"
   ]
  },
  {
   "cell_type": "code",
   "execution_count": 47,
   "metadata": {
    "collapsed": true
   },
   "outputs": [],
   "source": [
    "# Data - also - Input layer\n",
    "X= np.array([[0, 0, 1], [1, 1, 1], [1, 0, 1], [0, 1, 1]])\n",
    "# training_Y = np.array([[0],[1], [1], [0]])\n",
    "# y = np.array([0, 0, 1, 1]) # this is a one dimensional array and we want a 2 dim array fixing below\n",
    "y = np.array([[0],[1],[1],[0]])"
   ]
  },
  {
   "cell_type": "code",
   "execution_count": 48,
   "metadata": {
    "collapsed": true
   },
   "outputs": [],
   "source": [
    "# a single perceptron for hidden layer\n",
    "\n",
    "class pHidden(object):\n",
    "    def __init__(self, weight_shape):\n",
    "        \n",
    "     # model a single neuron with 3 inputs and 1 output\n",
    "        self.weight = np.random.rand(weight_shape[0], weight_shape[1])\n",
    "        self.error = 0\n",
    "        self.output = 0\n",
    "        self.shape = (0,0)\n",
    "        \n",
    "    def stim(self, X): # stimulate the perceptron - run the values through the sensor\n",
    "        self.output = self.sigmoid(np.dot(X,self.weight))\n",
    "        return(self.output)\n",
    "        \n",
    "    def sigmoid(self, weighted_sum):\n",
    "        return 1 / (1 + np.exp(-weighted_sum))\n",
    "    \n",
    "    def sigmoid_(self, weighted_sum):\n",
    "        return(weighted_sum * (1 - weighted_sum))\n",
    "    \n",
    "    def get_error(self, y): \n",
    "        self.error = (y - self.output)\n",
    "        return(self.error)\n",
    "\n",
    "    def get_adjustment(self):\n",
    "        delta = np.dot(X.T, self.error * self.sigmoid_(self.output))  \n",
    "        return(delta)\n",
    "               \n",
    "    def update_weight(self, delta):\n",
    "        self.weight += delta\n",
    "        return(self.weight)\n",
    "            \n",
    "        "
   ]
  },
  {
   "cell_type": "code",
   "execution_count": 49,
   "metadata": {
    "collapsed": true
   },
   "outputs": [],
   "source": [
    "# a single perceptron for output layer\n",
    "# output layer doesn't get an activation function\n",
    "\n",
    "class pOutput(object):\n",
    "    def __init__(self, weight_shape):\n",
    "        \n",
    "     # model a single neuron with 3 inputs and 1 output\n",
    "        self.weight = np.random.rand(weight_shape[0], weight_shape[1])\n",
    "        self.error = 0\n",
    "        self.output = 0\n",
    "        self.shape = (0,0)\n",
    "        \n",
    "    def stim(self, X): # stimulate the perceptron - run the values through the sensor\n",
    "        # don't run the output layer through an activation function..  ******\n",
    "#         self.output = self.sigmoid(np.dot(X,self.weight))\n",
    "        self.output = np.dot(X,self.weight)\n",
    "        return(self.output)\n",
    "        \n",
    "    def sigmoid(self, weighted_sum):\n",
    "        return 1 / (1 + np.exp(-weighted_sum))\n",
    "    \n",
    "    def sigmoid_(self, weighted_sum):\n",
    "        return(weighted_sum * (1 - weighted_sum))\n",
    "    \n",
    "    def get_error(self, y): \n",
    "        self.error = (y - self.output)\n",
    "        return(self.error)\n",
    "\n",
    "    def get_adjustment(self):\n",
    "        delta = np.dot(X.T, self.error * self.sigmoid_(self.output))  \n",
    "        return(delta)\n",
    "               \n",
    "    def update_weight(self, delta):\n",
    "        self.weight += delta\n",
    "        return(self.weight)\n",
    "            \n",
    "        "
   ]
  },
  {
   "cell_type": "code",
   "execution_count": null,
   "metadata": {
    "collapsed": true
   },
   "outputs": [],
   "source": []
  },
  {
   "cell_type": "code",
   "execution_count": 50,
   "metadata": {},
   "outputs": [
    {
     "name": "stdout",
     "output_type": "stream",
     "text": [
      "Initial Weights hidden\n",
      "[[ 0.59627703  0.08781618  0.29694742  0.66222035  0.2692351 ]\n",
      " [ 0.62715161  0.37158975  0.13614964  0.74262007  0.17547744]\n",
      " [ 0.31984603  0.39759266  0.30911937  0.30601213  0.31256165]]\n",
      "Initial Weights Output\n",
      "[[ 0.50756915]\n",
      " [ 0.781549  ]\n",
      " [ 0.03298458]\n",
      " [ 0.85788387]\n",
      " [ 0.52063146]]\n",
      "Stim Results Hidden\n",
      "[[ 0.57928673  0.59810913  0.57667029  0.57591157  0.57751041]\n",
      " [ 0.82394026  0.70203319  0.67748034  0.84694683  0.68076164]\n",
      " [ 0.7142515   0.61902428  0.64704306  0.72476705  0.64148073]\n",
      " [ 0.72051098  0.683344    0.60951381  0.74051216  0.61964438]]\n",
      "Stim Results Output\n",
      "[[ 1.57523623]\n",
      " [ 2.07023435]\n",
      " [ 1.82341329]\n",
      " [ 1.87776032]]\n",
      "calculated Error y - stim_results_output\n",
      "[[-1.57523623]\n",
      " [-1.07023435]\n",
      " [-0.82341329]\n",
      " [-1.87776032]]\n",
      "Delta Output\n",
      "[[ 3.60754111]\n",
      " [ 5.46621837]\n",
      " [ 8.12988325]]\n"
     ]
    },
    {
     "ename": "ValueError",
     "evalue": "operands could not be broadcast together with shapes (5,1) (3,1) (5,1) ",
     "output_type": "error",
     "traceback": [
      "\u001b[1;31m---------------------------------------------------------------------------\u001b[0m",
      "\u001b[1;31mValueError\u001b[0m                                Traceback (most recent call last)",
      "\u001b[1;32m<ipython-input-50-2af956f5c9ed>\u001b[0m in \u001b[0;36m<module>\u001b[1;34m()\u001b[0m\n\u001b[0;32m     28\u001b[0m \u001b[1;33m\u001b[0m\u001b[0m\n\u001b[0;32m     29\u001b[0m \u001b[1;33m\u001b[0m\u001b[0m\n\u001b[1;32m---> 30\u001b[1;33m     \u001b[0mupdate_output\u001b[0m \u001b[1;33m=\u001b[0m \u001b[0mptron_O\u001b[0m\u001b[1;33m.\u001b[0m\u001b[0mupdate_weight\u001b[0m\u001b[1;33m(\u001b[0m\u001b[0mdelta_output\u001b[0m\u001b[1;33m)\u001b[0m\u001b[1;33m\u001b[0m\u001b[0m\n\u001b[0m\u001b[0;32m     31\u001b[0m \u001b[1;31m# #     print(\"updates\")\u001b[0m\u001b[1;33m\u001b[0m\u001b[1;33m\u001b[0m\u001b[0m\n\u001b[0;32m     32\u001b[0m \u001b[1;31m# #     print(update)\u001b[0m\u001b[1;33m\u001b[0m\u001b[1;33m\u001b[0m\u001b[0m\n",
      "\u001b[1;32m<ipython-input-49-1ed8b8506e8d>\u001b[0m in \u001b[0;36mupdate_weight\u001b[1;34m(self, delta)\u001b[0m\n\u001b[0;32m     32\u001b[0m \u001b[1;33m\u001b[0m\u001b[0m\n\u001b[0;32m     33\u001b[0m     \u001b[1;32mdef\u001b[0m \u001b[0mupdate_weight\u001b[0m\u001b[1;33m(\u001b[0m\u001b[0mself\u001b[0m\u001b[1;33m,\u001b[0m \u001b[0mdelta\u001b[0m\u001b[1;33m)\u001b[0m\u001b[1;33m:\u001b[0m\u001b[1;33m\u001b[0m\u001b[0m\n\u001b[1;32m---> 34\u001b[1;33m         \u001b[0mself\u001b[0m\u001b[1;33m.\u001b[0m\u001b[0mweight\u001b[0m \u001b[1;33m+=\u001b[0m \u001b[0mdelta\u001b[0m\u001b[1;33m\u001b[0m\u001b[0m\n\u001b[0m\u001b[0;32m     35\u001b[0m         \u001b[1;32mreturn\u001b[0m\u001b[1;33m(\u001b[0m\u001b[0mself\u001b[0m\u001b[1;33m.\u001b[0m\u001b[0mweight\u001b[0m\u001b[1;33m)\u001b[0m\u001b[1;33m\u001b[0m\u001b[0m\n\u001b[0;32m     36\u001b[0m \u001b[1;33m\u001b[0m\u001b[0m\n",
      "\u001b[1;31mValueError\u001b[0m: operands could not be broadcast together with shapes (5,1) (3,1) (5,1) "
     ]
    }
   ],
   "source": [
    "ptron_H = pHidden((3,5))\n",
    "print(\"Initial Weights hidden\")\n",
    "print(ptron_H.weight)\n",
    "\n",
    "ptron_O = pOutput((5,1))\n",
    "print(\"Initial Weights Output\")\n",
    "print(ptron_O.weight)\n",
    "\n",
    "# reorder these to account for 2 layers\n",
    "for run in range(1):\n",
    "    stim_results_hidden = ptron_H.stim(X)\n",
    "    print(\"Stim Results Hidden\")\n",
    "    print(stim_results_hidden)\n",
    "\n",
    "    stim_results_output = ptron_O.stim(stim_results_hidden)\n",
    "    print(\"Stim Results Output\")\n",
    "    print(stim_results_output)\n",
    "\n",
    "    error_output = ptron_O.get_error(y)\n",
    "    print(\"calculated Error y - stim_results_output\")\n",
    "    print(error_output)\n",
    "\n",
    "\n",
    "\n",
    "    delta_output = ptron_O.get_adjustment()\n",
    "    print(\"Delta Output\")\n",
    "    print(delta_output)\n",
    "\n",
    "\n",
    "    update_output = ptron_O.update_weight(delta_output)\n",
    "# #     print(\"updates\")\n",
    "# #     print(update)\n",
    "\n",
    "\n",
    "#     error_hidden = ptron_H.get_error(y)\n",
    "# #     print(\"calculated Error\")\n",
    "# #     print(error)\n",
    "#     delta_hidden = ptron_H.get_adjustment()\n",
    "# #     print(\"Delta\")\n",
    "# #     print(delta)\n",
    "#     update_hidden = ptron_H.update_weight(delta_hidden)\n",
    "# #     print(\"updates\")\n",
    "# #     print(update)\n",
    "\n",
    "\n",
    "\n",
    "\n",
    "\n",
    "print(\"Final Weights hidden\")\n",
    "print(ptron_H.weight)\n",
    "\n",
    "print(\"Final weights output\")\n",
    "print(ptron_O.weight)\n"
   ]
  },
  {
   "cell_type": "code",
   "execution_count": null,
   "metadata": {
    "collapsed": true
   },
   "outputs": [],
   "source": []
  },
  {
   "cell_type": "code",
   "execution_count": null,
   "metadata": {
    "collapsed": true
   },
   "outputs": [],
   "source": []
  },
  {
   "cell_type": "code",
   "execution_count": 21,
   "metadata": {},
   "outputs": [
    {
     "name": "stdout",
     "output_type": "stream",
     "text": [
      "Initial Weights hidden\n",
      "[[ 0.00835742  0.8105993   0.91334399  0.88254029  0.59738885]\n",
      " [ 0.01480808  0.3050774   0.46785316  0.31006537  0.07421381]\n",
      " [ 0.87675823  0.08130777  0.32604622  0.41894829  0.28724798]]\n",
      "Initial Weights Output\n",
      "[[ 0.27909327]\n",
      " [ 0.7374807 ]\n",
      " [ 0.70753942]\n",
      " [ 0.08403479]\n",
      " [ 0.71130609]]\n"
     ]
    },
    {
     "ename": "ValueError",
     "evalue": "operands could not be broadcast together with shapes (5,1) (3,1) (5,1) ",
     "output_type": "error",
     "traceback": [
      "\u001b[1;31m---------------------------------------------------------------------------\u001b[0m",
      "\u001b[1;31mValueError\u001b[0m                                Traceback (most recent call last)",
      "\u001b[1;32m<ipython-input-21-2fac634633fd>\u001b[0m in \u001b[0;36m<module>\u001b[1;34m()\u001b[0m\n\u001b[0;32m     31\u001b[0m \u001b[1;31m#     print(\"Delta\")\u001b[0m\u001b[1;33m\u001b[0m\u001b[1;33m\u001b[0m\u001b[0m\n\u001b[0;32m     32\u001b[0m \u001b[1;31m#     print(delta)\u001b[0m\u001b[1;33m\u001b[0m\u001b[1;33m\u001b[0m\u001b[0m\n\u001b[1;32m---> 33\u001b[1;33m     \u001b[0mupdate_output\u001b[0m \u001b[1;33m=\u001b[0m \u001b[0mptron_O\u001b[0m\u001b[1;33m.\u001b[0m\u001b[0mupdate_weight\u001b[0m\u001b[1;33m(\u001b[0m\u001b[0mdelta_output\u001b[0m\u001b[1;33m)\u001b[0m\u001b[1;33m\u001b[0m\u001b[0m\n\u001b[0m\u001b[0;32m     34\u001b[0m \u001b[1;31m#     print(\"updates\")\u001b[0m\u001b[1;33m\u001b[0m\u001b[1;33m\u001b[0m\u001b[0m\n\u001b[0;32m     35\u001b[0m \u001b[1;31m#     print(update)\u001b[0m\u001b[1;33m\u001b[0m\u001b[1;33m\u001b[0m\u001b[0m\n",
      "\u001b[1;32m<ipython-input-16-e7e3d3dacd16>\u001b[0m in \u001b[0;36mupdate_weight\u001b[1;34m(self, delta)\u001b[0m\n\u001b[0;32m     30\u001b[0m \u001b[1;33m\u001b[0m\u001b[0m\n\u001b[0;32m     31\u001b[0m     \u001b[1;32mdef\u001b[0m \u001b[0mupdate_weight\u001b[0m\u001b[1;33m(\u001b[0m\u001b[0mself\u001b[0m\u001b[1;33m,\u001b[0m \u001b[0mdelta\u001b[0m\u001b[1;33m)\u001b[0m\u001b[1;33m:\u001b[0m\u001b[1;33m\u001b[0m\u001b[0m\n\u001b[1;32m---> 32\u001b[1;33m         \u001b[0mself\u001b[0m\u001b[1;33m.\u001b[0m\u001b[0mweight\u001b[0m \u001b[1;33m+=\u001b[0m \u001b[0mdelta\u001b[0m\u001b[1;33m\u001b[0m\u001b[0m\n\u001b[0m\u001b[0;32m     33\u001b[0m         \u001b[1;32mreturn\u001b[0m\u001b[1;33m(\u001b[0m\u001b[0mself\u001b[0m\u001b[1;33m.\u001b[0m\u001b[0mweight\u001b[0m\u001b[1;33m)\u001b[0m\u001b[1;33m\u001b[0m\u001b[0m\n\u001b[0;32m     34\u001b[0m \u001b[1;33m\u001b[0m\u001b[0m\n",
      "\u001b[1;31mValueError\u001b[0m: operands could not be broadcast together with shapes (5,1) (3,1) (5,1) "
     ]
    }
   ],
   "source": [
    "ptron_H = pHidden((3,5))\n",
    "print(\"Initial Weights hidden\")\n",
    "print(ptron_H.weight)\n",
    "\n",
    "ptron_O = pOutput((5,1))\n",
    "print(\"Initial Weights Output\")\n",
    "print(ptron_O.weight)\n",
    "\n",
    "\n",
    "for run in range(1):\n",
    "    stim_results_hidden = ptron_H.stim(X)\n",
    "#     print(\"Stim Results\")\n",
    "#     print(dp)\n",
    "    error_hidden = ptron_H.get_error(y)\n",
    "#     print(\"calculated Error\")\n",
    "#     print(error)\n",
    "    delta_hidden = ptron_H.get_adjustment()\n",
    "#     print(\"Delta\")\n",
    "#     print(delta)\n",
    "    update_hidden = ptron_H.update_weight(delta_hidden)\n",
    "#     print(\"updates\")\n",
    "#     print(update)\n",
    "\n",
    "    stim_results_output = ptron_O.stim(stim_results_hidden)\n",
    "#     print(\"Stim Results\")\n",
    "#     print(dp)\n",
    "    error_output = ptron_O.get_error(y)\n",
    "#     print(\"calculated Error\")\n",
    "#     print(error)\n",
    "    delta_output = ptron_O.get_adjustment()\n",
    "#     print(\"Delta\")\n",
    "#     print(delta)\n",
    "    update_output = ptron_O.update_weight(delta_output)\n",
    "#     print(\"updates\")\n",
    "#     print(update)\n",
    "\n",
    "print(\"Final Weights hidden\")\n",
    "print(ptron_H.weight)\n"
   ]
  },
  {
   "cell_type": "code",
   "execution_count": null,
   "metadata": {
    "collapsed": true
   },
   "outputs": [],
   "source": []
  },
  {
   "cell_type": "code",
   "execution_count": null,
   "metadata": {
    "collapsed": true
   },
   "outputs": [],
   "source": []
  },
  {
   "cell_type": "code",
   "execution_count": 11,
   "metadata": {},
   "outputs": [
    {
     "data": {
      "text/plain": [
       "array([[ 0.99993702]])"
      ]
     },
     "execution_count": 11,
     "metadata": {},
     "output_type": "execute_result"
    }
   ],
   "source": [
    "# test a new value\n",
    "\n",
    "ptron_H.stim(np.array([[1, 0, 0]]))\n"
   ]
  },
  {
   "cell_type": "code",
   "execution_count": 19,
   "metadata": {},
   "outputs": [
    {
     "data": {
      "text/plain": [
       "array([[ 0.44800773]])"
      ]
     },
     "execution_count": 19,
     "metadata": {},
     "output_type": "execute_result"
    }
   ],
   "source": [
    "ptron_H.stim(np.array([[0, 1, 0]]))"
   ]
  },
  {
   "cell_type": "code",
   "execution_count": 20,
   "metadata": {},
   "outputs": [
    {
     "data": {
      "text/plain": [
       "array([[ 0.99992242]])"
      ]
     },
     "execution_count": 20,
     "metadata": {},
     "output_type": "execute_result"
    }
   ],
   "source": [
    "ptron_H.stim(np.array([[1,1,0]]))"
   ]
  },
  {
   "cell_type": "code",
   "execution_count": null,
   "metadata": {
    "collapsed": true
   },
   "outputs": [],
   "source": []
  }
 ],
 "metadata": {
  "kernelspec": {
   "display_name": "Python 3",
   "language": "python",
   "name": "python3"
  },
  "language_info": {
   "codemirror_mode": {
    "name": "ipython",
    "version": 3
   },
   "file_extension": ".py",
   "mimetype": "text/x-python",
   "name": "python",
   "nbconvert_exporter": "python",
   "pygments_lexer": "ipython3",
   "version": "3.6.1"
  }
 },
 "nbformat": 4,
 "nbformat_minor": 2
}
