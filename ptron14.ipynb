{
 "cells": [
  {
   "cell_type": "code",
   "execution_count": 6,
   "metadata": {
    "collapsed": true
   },
   "outputs": [],
   "source": [
    "%matplotlib inline"
   ]
  },
  {
   "cell_type": "code",
   "execution_count": 7,
   "metadata": {
    "collapsed": true
   },
   "outputs": [],
   "source": [
    "import numpy as np"
   ]
  },
  {
   "cell_type": "code",
   "execution_count": 8,
   "metadata": {
    "collapsed": true
   },
   "outputs": [],
   "source": [
    "# Data - also - Input layer\n",
    "X= np.array([[0, 0, 1], [1, 1, 1], [1, 0, 1], [0, 1, 1]])\n",
    "# training_Y = np.array([[0],[1], [1], [0]])\n",
    "# y = np.array([0, 0, 1, 1]) # this is a one dimensional array and we want a 2 dim array fixing below\n",
    "y = np.array([[0],[1],[1],[0]])"
   ]
  },
  {
   "cell_type": "code",
   "execution_count": 9,
   "metadata": {
    "collapsed": true
   },
   "outputs": [],
   "source": [
    "# a single perceptron\n",
    "\n",
    "class Perceptron(object):\n",
    "    def __init__(self, weight_shape):\n",
    "        \n",
    "     # model a single neuron with 3 inputs and 1 output\n",
    "        self.weight = np.random.rand(weight_shape[0], weight_shape[1])\n",
    "        self.error = 0\n",
    "        self.output = 0\n",
    "        self.shape = (0,0)\n",
    "        \n",
    "    def stim(self, X): # stimulate the perceptron - run the values through the sensor\n",
    "        self.output = self.sigmoid(np.dot(X,self.weight))\n",
    "        return(self.output)\n",
    "        \n",
    "    def sigmoid(self, weighted_sum):\n",
    "        return 1 / (1 + np.exp(-weighted_sum))\n",
    "    \n",
    "    def sigmoid_(self, weighted_sum):\n",
    "        return(weighted_sum * (1 - weighted_sum))\n",
    "    \n",
    "    def get_error(self, y): \n",
    "        self.error = (y - self.output)\n",
    "        return(self.error)\n",
    "\n",
    "    def get_adjustment(self):\n",
    "        delta = np.dot(X.T, self.error * self.sigmoid_(self.output))  \n",
    "        return(delta)\n",
    "               \n",
    "    def update_weight(self, delta):\n",
    "        self.weight += delta\n",
    "        return(self.weight)\n",
    "            \n",
    "        "
   ]
  },
  {
   "cell_type": "code",
   "execution_count": 12,
   "metadata": {},
   "outputs": [
    {
     "name": "stdout",
     "output_type": "stream",
     "text": [
      "Initial Weights\n",
      "[[ 0.67637049]\n",
      " [ 0.00645983]\n",
      " [ 0.97139528]]\n",
      "Final Weights\n",
      "[[ 9.67287339]\n",
      " [-0.20872357]\n",
      " [-4.62905181]]\n"
     ]
    }
   ],
   "source": [
    "ptron_H = Perceptron((3,1))\n",
    "print(\"Initial Weights\")\n",
    "print(ptron_H.weight)\n",
    "for run in range(10000):\n",
    "    dp = ptron_H.stim(X)\n",
    "#     print(\"Stim Results\")\n",
    "#     print(dp)\n",
    "    error = ptron_H.get_error(y)\n",
    "#     print(\"calculated Error\")\n",
    "#     print(error)\n",
    "    delta = ptron_H.get_adjustment()\n",
    "#     print(\"Delta\")\n",
    "#     print(delta)\n",
    "    update = ptron_H.update_weight(delta)\n",
    "#     print(\"updates\")\n",
    "#     print(update)\n",
    "print(\"Final Weights\")\n",
    "print(ptron_H.weight)\n"
   ]
  },
  {
   "cell_type": "code",
   "execution_count": 18,
   "metadata": {},
   "outputs": [
    {
     "data": {
      "text/plain": [
       "array([[ 0.99993704]])"
      ]
     },
     "execution_count": 18,
     "metadata": {},
     "output_type": "execute_result"
    }
   ],
   "source": [
    "# test a new value\n",
    "\n",
    "ptron_H.stim(np.array([[1, 0, 0]]))\n"
   ]
  },
  {
   "cell_type": "code",
   "execution_count": 19,
   "metadata": {},
   "outputs": [
    {
     "data": {
      "text/plain": [
       "array([[ 0.44800773]])"
      ]
     },
     "execution_count": 19,
     "metadata": {},
     "output_type": "execute_result"
    }
   ],
   "source": [
    "ptron_H.stim(np.array([[0, 1, 0]]))"
   ]
  },
  {
   "cell_type": "code",
   "execution_count": 20,
   "metadata": {},
   "outputs": [
    {
     "data": {
      "text/plain": [
       "array([[ 0.99992242]])"
      ]
     },
     "execution_count": 20,
     "metadata": {},
     "output_type": "execute_result"
    }
   ],
   "source": [
    "ptron_H.stim(np.array([[1,1,0]]))"
   ]
  },
  {
   "cell_type": "code",
   "execution_count": null,
   "metadata": {
    "collapsed": true
   },
   "outputs": [],
   "source": []
  }
 ],
 "metadata": {
  "kernelspec": {
   "display_name": "Python 3",
   "language": "python",
   "name": "python3"
  },
  "language_info": {
   "codemirror_mode": {
    "name": "ipython",
    "version": 3
   },
   "file_extension": ".py",
   "mimetype": "text/x-python",
   "name": "python",
   "nbconvert_exporter": "python",
   "pygments_lexer": "ipython3",
   "version": "3.6.1"
  }
 },
 "nbformat": 4,
 "nbformat_minor": 2
}
