{
 "cells": [
  {
   "cell_type": "code",
   "execution_count": 1,
   "metadata": {},
   "outputs": [
    {
     "name": "stdout",
     "output_type": "stream",
     "text": [
      "[[ 0.012895  ]\n",
      " [ 0.99223528]\n",
      " [ 0.99223498]\n",
      " [ 0.00197069]]\n"
     ]
    }
   ],
   "source": [
    "# XOR.py-A very simple neural network to do exclusive or.\n",
    "import numpy as np\n",
    "epochs = 60000 # Number of iterations\n",
    "inputLayerSize, hiddenLayerSize, outputLayerSize = 2, 3, 1\n",
    "X = np.array([[0,0], [0,1], [1,0], [1,1]])\n",
    "Y = np.array([ [0], [1], [1], [0]])\n",
    "def sigmoid (x): return 1/(1 + np.exp(-x)) # activation function\n",
    "def sigmoid_(x): return x * (1 - x) # derivative of sigmoid\n",
    "# weights on layer inputs\n",
    "Wh = np.random.uniform(size=(inputLayerSize, hiddenLayerSize))\n",
    "Wz = np.random.uniform(size=(hiddenLayerSize,outputLayerSize))\n",
    "for i in range(epochs):\n",
    "    H = sigmoid(np.dot(X, Wh)) # hidden layer results\n",
    "    Z = sigmoid(np.dot(H, Wz)) # output layer results\n",
    "    E = Y - Z # how much we missed (error)\n",
    "    dZ = E * sigmoid_(Z) # delta Z\n",
    "    dH = dZ.dot(Wz.T) * sigmoid_(H) # delta H\n",
    "    Wz += H.T.dot(dZ) # update output layer weights\n",
    "    Wh += X.T.dot(dH) # update hidden layer weights\n",
    "print(Z) # what have we learnt?"
   ]
  },
  {
   "cell_type": "code",
   "execution_count": 10,
   "metadata": {},
   "outputs": [
    {
     "data": {
      "text/plain": [
       "array([[ 5.89795296,  6.89075684, -4.53519239],\n",
       "       [ 5.90131302, -4.55245772,  6.84110363]])"
      ]
     },
     "execution_count": 10,
     "metadata": {},
     "output_type": "execute_result"
    }
   ],
   "source": [
    "Wh"
   ]
  },
  {
   "cell_type": "code",
   "execution_count": 11,
   "metadata": {},
   "outputs": [
    {
     "data": {
      "text/plain": [
       "array([[ 18.73890557],\n",
       "       [-13.70572711],\n",
       "       [-13.70906938]])"
      ]
     },
     "execution_count": 11,
     "metadata": {},
     "output_type": "execute_result"
    }
   ],
   "source": [
    "Wz"
   ]
  },
  {
   "cell_type": "code",
   "execution_count": 2,
   "metadata": {},
   "outputs": [
    {
     "data": {
      "text/plain": [
       "array([[ 0.5       ,  0.5       ,  0.5       ],\n",
       "       [ 0.99727161,  0.01043135,  0.99893221],\n",
       "       [ 0.99726245,  0.99898389,  0.01061109],\n",
       "       [ 0.99999249,  0.91199974,  0.90936548]])"
      ]
     },
     "execution_count": 2,
     "metadata": {},
     "output_type": "execute_result"
    }
   ],
   "source": [
    "H"
   ]
  },
  {
   "cell_type": "code",
   "execution_count": 3,
   "metadata": {},
   "outputs": [
    {
     "data": {
      "text/plain": [
       "array([[ 0.012895  ],\n",
       "       [ 0.99223528],\n",
       "       [ 0.99223498],\n",
       "       [ 0.00197069]])"
      ]
     },
     "execution_count": 3,
     "metadata": {},
     "output_type": "execute_result"
    }
   ],
   "source": [
    "Z"
   ]
  },
  {
   "cell_type": "code",
   "execution_count": 6,
   "metadata": {},
   "outputs": [
    {
     "data": {
      "text/plain": [
       "array([[-0.012895  ],\n",
       "       [ 0.00776472],\n",
       "       [ 0.00776502],\n",
       "       [-0.00197069]])"
      ]
     },
     "execution_count": 6,
     "metadata": {},
     "output_type": "execute_result"
    }
   ],
   "source": [
    "E"
   ]
  },
  {
   "cell_type": "code",
   "execution_count": 7,
   "metadata": {},
   "outputs": [
    {
     "data": {
      "text/plain": [
       "array([[ -1.64136778e-04],\n",
       "       [  5.98226789e-05],\n",
       "       [  5.98274059e-05],\n",
       "       [ -3.87598320e-06]])"
      ]
     },
     "execution_count": 7,
     "metadata": {},
     "output_type": "execute_result"
    }
   ],
   "source": [
    "dZ"
   ]
  },
  {
   "cell_type": "code",
   "execution_count": 8,
   "metadata": {},
   "outputs": [
    {
     "data": {
      "text/plain": [
       "array([[ -7.68934524e-04,   5.62402436e-04,   5.62539584e-04],\n",
       "       [  3.05021083e-06,  -8.46356926e-06,  -8.74768300e-07],\n",
       "       [  3.06066261e-06,  -8.32342824e-07,  -8.61061629e-06],\n",
       "       [ -5.45463082e-10,   4.26345669e-06,   4.37946592e-06]])"
      ]
     },
     "execution_count": 8,
     "metadata": {},
     "output_type": "execute_result"
    }
   ],
   "source": [
    "dH"
   ]
  },
  {
   "cell_type": "code",
   "execution_count": null,
   "metadata": {
    "collapsed": true
   },
   "outputs": [],
   "source": []
  }
 ],
 "metadata": {
  "kernelspec": {
   "display_name": "Python 3",
   "language": "python",
   "name": "python3"
  },
  "language_info": {
   "codemirror_mode": {
    "name": "ipython",
    "version": 3
   },
   "file_extension": ".py",
   "mimetype": "text/x-python",
   "name": "python",
   "nbconvert_exporter": "python",
   "pygments_lexer": "ipython3",
   "version": "3.6.1"
  }
 },
 "nbformat": 4,
 "nbformat_minor": 2
}
